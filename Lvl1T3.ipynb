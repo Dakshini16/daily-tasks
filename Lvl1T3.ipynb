{
 "cells": [
  {
   "cell_type": "code",
   "execution_count": 2,
   "id": "b6459373-36e3-4e29-af4b-eb804c8531be",
   "metadata": {},
   "outputs": [
    {
     "name": "stdout",
     "output_type": "stream",
     "text": [
      "Bias: 0.3600\n",
      "Mean Squared Error (MSE): 0.4280\n",
      "Root Mean Squared Error (RMSE): 0.6542\n",
      "Standard Error (SE): 0.2443\n"
     ]
    }
   ],
   "source": [
    "import numpy as np\n",
    "\n",
    "# Example: True vs Predicted values\n",
    "y_true = np.array([3, -0.5, 2, 7, 4.2])\n",
    "y_pred = np.array([2.5, 0.0, 2, 8, 5])\n",
    "\n",
    "# 1. Bias\n",
    "bias = np.mean(y_pred - y_true)\n",
    "\n",
    "# 2. Mean Squared Error (MSE)\n",
    "mse = np.mean((y_pred - y_true) ** 2)\n",
    "\n",
    "# 3. Root Mean Squared Error (RMSE)\n",
    "rmse = np.sqrt(mse)\n",
    "\n",
    "# 4. Standard Error (SE)\n",
    "standard_error = np.std(y_pred - y_true) / np.sqrt(len(y_true))\n",
    "\n",
    "# Print results\n",
    "print(f\"Bias: {bias:.4f}\")\n",
    "print(f\"Mean Squared Error (MSE): {mse:.4f}\")\n",
    "print(f\"Root Mean Squared Error (RMSE): {rmse:.4f}\")\n",
    "print(f\"Standard Error (SE): {standard_error:.4f}\")\n"
   ]
  },
  {
   "cell_type": "code",
   "execution_count": null,
   "id": "8211ecc6-8b1d-42b0-bfef-8fec2e79a994",
   "metadata": {},
   "outputs": [],
   "source": []
  }
 ],
 "metadata": {
  "kernelspec": {
   "display_name": "Python 3 (ipykernel)",
   "language": "python",
   "name": "python3"
  },
  "language_info": {
   "codemirror_mode": {
    "name": "ipython",
    "version": 3
   },
   "file_extension": ".py",
   "mimetype": "text/x-python",
   "name": "python",
   "nbconvert_exporter": "python",
   "pygments_lexer": "ipython3",
   "version": "3.12.7"
  }
 },
 "nbformat": 4,
 "nbformat_minor": 5
}
