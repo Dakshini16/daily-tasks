{
 "cells": [
  {
   "cell_type": "code",
   "execution_count": 1,
   "id": "99b73034-9144-4a38-876d-9a0c63197a59",
   "metadata": {},
   "outputs": [
    {
     "name": "stdout",
     "output_type": "stream",
     "text": [
      "Mean: 0.0083\n",
      "Variance: 0.9520\n",
      "Standard Deviation: 0.9757\n",
      "Skewness: 0.1058\n",
      "Kurtosis: 0.0363\n"
     ]
    }
   ],
   "source": [
    "import numpy as np\n",
    "from scipy.stats import skew, kurtosis\n",
    "\n",
    "# Generate a random dataset\n",
    "data = np.random.normal(loc=0, scale=1, size=1000)  # Normal distribution\n",
    "\n",
    "# 1. Mean\n",
    "mean_value = np.mean(data)\n",
    "\n",
    "# 2. Variance\n",
    "variance_value = np.var(data)\n",
    "\n",
    "# 3. Standard Deviation\n",
    "std_dev_value = np.std(data)\n",
    "\n",
    "# 4. Skewness\n",
    "skewness_value = skew(data)\n",
    "\n",
    "# 5. Kurtosis\n",
    "kurtosis_value = kurtosis(data)\n",
    "\n",
    "# Print results\n",
    "print(f\"Mean: {mean_value:.4f}\")\n",
    "print(f\"Variance: {variance_value:.4f}\")\n",
    "print(f\"Standard Deviation: {std_dev_value:.4f}\")\n",
    "print(f\"Skewness: {skewness_value:.4f}\")\n",
    "print(f\"Kurtosis: {kurtosis_value:.4f}\")\n"
   ]
  },
  {
   "cell_type": "code",
   "execution_count": null,
   "id": "79b3b763-bb77-4227-bbad-a95e0c121b53",
   "metadata": {},
   "outputs": [],
   "source": []
  }
 ],
 "metadata": {
  "kernelspec": {
   "display_name": "Python 3 (ipykernel)",
   "language": "python",
   "name": "python3"
  },
  "language_info": {
   "codemirror_mode": {
    "name": "ipython",
    "version": 3
   },
   "file_extension": ".py",
   "mimetype": "text/x-python",
   "name": "python",
   "nbconvert_exporter": "python",
   "pygments_lexer": "ipython3",
   "version": "3.12.7"
  }
 },
 "nbformat": 4,
 "nbformat_minor": 5
}
