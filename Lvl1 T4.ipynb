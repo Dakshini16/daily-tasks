{
 "cells": [
  {
   "cell_type": "code",
   "execution_count": 1,
   "id": "9cb8dcfb-6715-4801-b24c-ca046c9d298a",
   "metadata": {},
   "outputs": [
    {
     "name": "stdout",
     "output_type": "stream",
     "text": [
      "Stratified Sample:\n",
      "     ID  Age  Income Category\n",
      "34  35   38   22693        A\n",
      "60  61   43   93530        A\n",
      "80  81   18   83734        A\n",
      "98  99   45   92082        A\n",
      "9   10   28   44538        A\n",
      "\n",
      "Simple Random Sample:\n",
      "     ID  Age  Income Category\n",
      "83  84   26   32688        C\n",
      "53  54   21   78053        A\n",
      "70  71   57   43664        A\n",
      "45  46   45   64262        B\n",
      "44  45   37   41976        A\n",
      "\n",
      "Systematic Sample:\n",
      "     ID  Age  Income Category\n",
      "0    1   56   28392        C\n",
      "3    4   25   72256        A\n",
      "6    7   36   99575        B\n",
      "9   10   28   44538        A\n",
      "12  13   57   99309        C\n",
      "\n",
      "Cluster Sample:\n",
      "    ID  Age  Income Category  Cluster\n",
      "1   2   46   50535        C        5\n",
      "2   3   32   98603        C        5\n",
      "3   4   25   72256        A        5\n",
      "5   6   56   97373        C        4\n",
      "8   9   28   30965        C        5\n",
      "\n",
      "Convenience Sample:\n",
      "    ID  Age  Income Category  Cluster\n",
      "0   1   56   28392        C        1\n",
      "1   2   46   50535        C        5\n",
      "2   3   32   98603        C        5\n",
      "3   4   25   72256        A        5\n",
      "4   5   38   55222        A        3\n"
     ]
    },
    {
     "name": "stderr",
     "output_type": "stream",
     "text": [
      "C:\\Users\\daksh\\AppData\\Local\\Temp\\ipykernel_16452\\1563160150.py:15: DeprecationWarning: DataFrameGroupBy.apply operated on the grouping columns. This behavior is deprecated, and in a future version of pandas the grouping columns will be excluded from the operation. Either pass `include_groups=False` to exclude the groupings or explicitly select the grouping columns after groupby to silence this warning.\n",
      "  stratified_sample = data.groupby(\"Category\", group_keys=False).apply(lambda x: x.sample(frac=0.3))  # 30% per group\n"
     ]
    }
   ],
   "source": [
    "import numpy as np\n",
    "import pandas as pd\n",
    "from sklearn.model_selection import train_test_split\n",
    "\n",
    "# Sample dataset\n",
    "np.random.seed(42)\n",
    "data = pd.DataFrame({\n",
    "    \"ID\": np.arange(1, 101),  # 100 individuals\n",
    "    \"Age\": np.random.randint(18, 60, 100),\n",
    "    \"Income\": np.random.randint(20000, 100000, 100),\n",
    "    \"Category\": np.random.choice([\"A\", \"B\", \"C\"], 100)  # Categorical stratification\n",
    "})\n",
    "\n",
    "### 1. Stratified Sampling\n",
    "stratified_sample = data.groupby(\"Category\", group_keys=False).apply(lambda x: x.sample(frac=0.3))  # 30% per group\n",
    "\n",
    "### 2. Simple Random Sampling\n",
    "simple_random_sample = data.sample(n=30, random_state=42)  # Select 30 random samples\n",
    "\n",
    "### 3. Systematic Sampling (Every 3rd individual)\n",
    "systematic_sample = data.iloc[::3]  # Choose every 3rd row\n",
    "\n",
    "### 4. Cluster Sampling (Assume ID groups as clusters)\n",
    "num_clusters = 5  # Define number of clusters\n",
    "data[\"Cluster\"] = np.random.randint(1, num_clusters + 1, len(data))\n",
    "random_clusters = np.random.choice(data[\"Cluster\"].unique(), size=2, replace=False)  # Select 2 clusters randomly\n",
    "cluster_sample = data[data[\"Cluster\"].isin(random_clusters)]\n",
    "\n",
    "### 5. Convenience Sampling (First 10 rows)\n",
    "convenience_sample = data.head(10)\n",
    "\n",
    "# Display Samples\n",
    "print(\"Stratified Sample:\\n\", stratified_sample.head())\n",
    "print(\"\\nSimple Random Sample:\\n\", simple_random_sample.head())\n",
    "print(\"\\nSystematic Sample:\\n\", systematic_sample.head())\n",
    "print(\"\\nCluster Sample:\\n\", cluster_sample.head())\n",
    "print(\"\\nConvenience Sample:\\n\", convenience_sample.head())\n"
   ]
  },
  {
   "cell_type": "code",
   "execution_count": null,
   "id": "ad1f2508-5ce1-401a-9fad-8774e1b15f7b",
   "metadata": {},
   "outputs": [],
   "source": []
  }
 ],
 "metadata": {
  "kernelspec": {
   "display_name": "Python 3 (ipykernel)",
   "language": "python",
   "name": "python3"
  },
  "language_info": {
   "codemirror_mode": {
    "name": "ipython",
    "version": 3
   },
   "file_extension": ".py",
   "mimetype": "text/x-python",
   "name": "python",
   "nbconvert_exporter": "python",
   "pygments_lexer": "ipython3",
   "version": "3.12.7"
  }
 },
 "nbformat": 4,
 "nbformat_minor": 5
}
